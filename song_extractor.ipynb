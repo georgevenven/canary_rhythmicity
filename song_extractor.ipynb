{
 "cells": [
  {
   "cell_type": "code",
   "execution_count": null,
   "metadata": {},
   "outputs": [],
   "source": [
    "import matplotlib.pyplot as plt\n",
    "import numpy as np\n",
    "import os\n",
    "import scipy\n",
    "from scipy import signal\n",
    "from scipy.io import wavfile\n",
    "import io\n",
    "from PIL import Image\n",
    "import librosa\n",
    "\n",
    "test_file = '/home/george-vengrovski/Documents/canary_segments_generation/llb3_0002_2018_04_23_14_18_03.wav'"
   ]
  },
  {
   "attachments": {},
   "cell_type": "markdown",
   "metadata": {},
   "source": [
    "#### For tuning parameters on a test file, and defining several functions"
   ]
  },
  {
   "cell_type": "code",
   "execution_count": null,
   "metadata": {},
   "outputs": [],
   "source": [
    "# create sonogram of the whole song \n",
    " \n",
    "# wav to numpy array\n",
    "def wav_to_numpy(file):\n",
    "    rate, data = wavfile.read(file)\n",
    "    return rate, data\n",
    "\n",
    "def createSonogram(songfile, show_plot=False):\n",
    "    data = wav_to_numpy(songfile)\n",
    "    rate = data[0]\n",
    "    data = data[1]\n",
    "\n",
    "    f, t, Sxx = signal.spectrogram(data, rate, nfft=512, noverlap=25, scaling=\"density\")\n",
    "\n",
    "    fmin = 400 # Hz\n",
    "    fmax = 8000 # Hz\n",
    "    freq_slice = np.where((f >= fmin) & (f <= fmax))\n",
    "\n",
    "    # keep only frequencies of interest\n",
    "    f   = f[freq_slice]\n",
    "    Sxx = Sxx[freq_slice,:][0]\n",
    "\n",
    "    Sxx = np.log(Sxx + 1)\n",
    "\n",
    "    np_sonogram = np.array(Sxx, dtype=\"float32\")\n",
    "    \n",
    "    return np_sonogram \n",
    "\n",
    "\n",
    "# use test file to determine how many ms per x pixels\n",
    "np_sonogram = createSonogram(test_file)\n",
    "ms_per_x_pixels = (librosa.get_duration(filename=test_file) * 1000) / np_sonogram.shape[1]\n",
    "print(f\"ms per x pixels: {ms_per_x_pixels}\")\n",
    "\n",
    "plt.pcolormesh(np_sonogram)"
   ]
  },
  {
   "cell_type": "code",
   "execution_count": null,
   "metadata": {},
   "outputs": [],
   "source": [
    "def create_rhythmicity(np_sonogram, threshold=100, nfft=256, rythm_y_axis_crop=60):\n",
    "    # reverse the axis of the np array dim1 becomes dim 0 and vice versa\n",
    "    np_sonogram = np_sonogram.T\n",
    "\n",
    "    vertical_sum = np.sum(np_sonogram, axis=1)\n",
    "\n",
    "    # for every vertical sum if below 100, set to 0\n",
    "    for i in range(len(vertical_sum)):\n",
    "        if vertical_sum[i] < threshold:\n",
    "            vertical_sum[i] = 0\n",
    "\n",
    "    # pad because the fft crops the edges by nfft/2\n",
    "    vertical_sum_padded = np.zeros((len(vertical_sum) + nfft))\n",
    "    nfft_half = nfft/2\n",
    "    vertical_sum_padded[0:128] = 0\n",
    "    vertical_sum_padded[-128:] = 0\n",
    "    vertical_sum_padded[128:-128] = vertical_sum\n",
    "\n",
    "\n",
    "\n",
    "\n",
    "    # log to make plot y axis clearer \n",
    "    vertical_sum_padded = np.log(vertical_sum_padded + 1)\n",
    "    f, t, Sxx = signal.spectrogram(vertical_sum_padded, 1, nfft=nfft, noverlap=255, scaling=\"density\")\n",
    "    Sxx = Sxx[:rythm_y_axis_crop]\n",
    "    print(Sxx.shape)\n",
    "\n",
    "    # interporlated Sxx is equal to Sxx but remove last element from 1st axis\n",
    "    interpolated_Sxx = Sxx.T\n",
    "    interpolated_Sxx = interpolated_Sxx[:-1]\n",
    "\n",
    "    return interpolated_Sxx.T\n",
    "\n",
    "interpolated_Sxx = create_rhythmicity(np_sonogram)\n",
    "plt.pcolormesh(interpolated_Sxx)\n"
   ]
  },
  {
   "attachments": {},
   "cell_type": "markdown",
   "metadata": {},
   "source": [
    "## Generating spectograms and the correspond rhythmicity spectogram "
   ]
  },
  {
   "cell_type": "code",
   "execution_count": null,
   "metadata": {},
   "outputs": [],
   "source": [
    "## Explanation ##\n",
    "# - For every song in canary data, we generate a spectrogram and a rhythmicity spec \n",
    "# - each will be named after the song number and saved in the respective folder  \n",
    "# - will be saved as a np array\n",
    "\n",
    "import math \n",
    "rhytm_dir = '/home/george-vengrovski/Documents/canary_segments_generation/windows/rhytm'\n",
    "specs_dir = '/home/george-vengrovski/Documents/canary_segments_generation/windows/specs'\n",
    "canary_data = '/home/george-vengrovski/Documents/canary_segments_generation/canary_data'\n",
    "\n",
    "# stride in ms \n",
    "stride_ms = 10\n",
    "pixel_stride = np.round(stride_ms / ms_per_x_pixels, 0).astype(int)\n",
    "\n",
    "# calcualting window size \n",
    "ms_per_window = 256 \n",
    "window_size = np.round(ms_per_window / ms_per_x_pixels).astype(int)\n",
    "\n",
    "# loop over songs in canary data \n",
    "for song in os.listdir(canary_data):\n",
    "    try:\n",
    "        song_name = song.split('_')[1]\n",
    "        song_path = os.path.join(canary_data, song)\n",
    "\n",
    "        # create sonogram and rhythmicity spec by sliding a window\n",
    "        np_sonogram = createSonogram(song_path)\n",
    "        interpolated_Sxx = create_rhythmicity(np_sonogram)\n",
    "\n",
    "        length = np_sonogram.shape[1]\n",
    "\n",
    "        # slide window across length\n",
    "\n",
    "        for i in range(0, length, pixel_stride):\n",
    "            spec = np_sonogram[:, i:i+window_size]\n",
    "            rhytm = interpolated_Sxx[:, i:i+window_size]\n",
    "\n",
    "            # save spec and rhytm\n",
    "            spec_path = os.path.join(specs_dir, f\"{song_name}_{i}.npy\")\n",
    "            rhytm_path = os.path.join(rhytm_dir, f\"{song_name}_{i}.npy\")\n",
    "\n",
    "            np.save(spec_path, spec)\n",
    "            np.save(rhytm_path, rhytm)\n",
    "\n",
    "    # just in case a file in the folder is not a song or song is corrupted \n",
    "    except Exception as e:\n",
    "        print(e)\n",
    "        print(song)\n",
    "        continue"
   ]
  },
  {
   "attachments": {},
   "cell_type": "markdown",
   "metadata": {},
   "source": [
    "## This is for removing blank spaces between syllables"
   ]
  },
  {
   "cell_type": "code",
   "execution_count": null,
   "metadata": {},
   "outputs": [],
   "source": [
    "from matplotlib.pyplot import axis \n",
    "\n",
    "window_size = 1\n",
    "threshold = 0\n",
    "\n",
    "# window slides over vertical sum, takes the average and keeps it if it is above threshold\n",
    "def sliding_window_average(vertical_sum, window_size, threshold):\n",
    "    window = np.ones(int(window_size))/float(window_size)\n",
    "    y = np.convolve(vertical_sum, window, 'same')\n",
    "    y = np.where(y > threshold, y, 0)\n",
    "    return y\n",
    "\n",
    "y = sliding_window_average(vertical_sum, window_size, threshold)\n",
    "\n",
    "# get the indices of the locations where the vertical sum is above threshold\n",
    "indices = np.where(y > 0)[0]\n",
    "plt.figure(figsize=(50,5))\n",
    "plt.imshow(np_sonogram[indices].T, origin='lower')"
   ]
  }
 ],
 "metadata": {
  "kernelspec": {
   "display_name": "Python 3.11.3 ('canary-vae')",
   "language": "python",
   "name": "python3"
  },
  "language_info": {
   "codemirror_mode": {
    "name": "ipython",
    "version": 3
   },
   "file_extension": ".py",
   "mimetype": "text/x-python",
   "name": "python",
   "nbconvert_exporter": "python",
   "pygments_lexer": "ipython3",
   "version": "3.11.0"
  },
  "orig_nbformat": 4,
  "vscode": {
   "interpreter": {
    "hash": "cf4e88bfe0e6812df7d7bd8c96d304caa72a5d7fdc69a3dfeea5e46c1f7c33d4"
   }
  }
 },
 "nbformat": 4,
 "nbformat_minor": 2
}
